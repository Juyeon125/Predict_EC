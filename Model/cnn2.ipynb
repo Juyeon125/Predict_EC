{
 "cells": [
  {
   "cell_type": "code",
   "execution_count": 1,
   "metadata": {},
   "outputs": [],
   "source": [
    "import pandas as pd\n",
    "import numpy as np\n",
    "import gzip\n",
    "import struct\n",
    "import torch \n",
    "import torch.nn as nn\n",
    "import torch.nn.functional as F\n",
    "import torch.optim as optim\n",
    "import time\n",
    "\n",
    "from sklearn.utils.class_weight import compute_class_weight\n",
    "from torch.utils.data import Dataset\n",
    "from torch.utils.data import DataLoader\n",
    "\n",
    "file_dir = './Enzyme_Data/cnn2_dataset/'"
   ]
  },
  {
   "cell_type": "code",
   "execution_count": 2,
   "metadata": {},
   "outputs": [],
   "source": [
    "thrid_data = pd.read_csv('./thrid_second_test.csv')  #데이터셋에서 아래 보이는것과 같이 EC 과 count를 만들어놓은 csv 파일"
   ]
  },
  {
   "cell_type": "code",
   "execution_count": 3,
   "metadata": {},
   "outputs": [
    {
     "data": {
      "text/html": [
       "<div>\n",
       "<style scoped>\n",
       "    .dataframe tbody tr th:only-of-type {\n",
       "        vertical-align: middle;\n",
       "    }\n",
       "\n",
       "    .dataframe tbody tr th {\n",
       "        vertical-align: top;\n",
       "    }\n",
       "\n",
       "    .dataframe thead th {\n",
       "        text-align: right;\n",
       "    }\n",
       "</style>\n",
       "<table border=\"1\" class=\"dataframe\">\n",
       "  <thead>\n",
       "    <tr style=\"text-align: right;\">\n",
       "      <th></th>\n",
       "      <th>EC</th>\n",
       "      <th>Count</th>\n",
       "      <th>class_weight</th>\n",
       "    </tr>\n",
       "  </thead>\n",
       "  <tbody>\n",
       "    <tr>\n",
       "      <th>0</th>\n",
       "      <td>1.1.1</td>\n",
       "      <td>56502</td>\n",
       "      <td>0.000018</td>\n",
       "    </tr>\n",
       "    <tr>\n",
       "      <th>1</th>\n",
       "      <td>1.1.2</td>\n",
       "      <td>848</td>\n",
       "      <td>0.001179</td>\n",
       "    </tr>\n",
       "    <tr>\n",
       "      <th>2</th>\n",
       "      <td>1.1.3</td>\n",
       "      <td>1145</td>\n",
       "      <td>0.000873</td>\n",
       "    </tr>\n",
       "    <tr>\n",
       "      <th>3</th>\n",
       "      <td>1.1.5</td>\n",
       "      <td>3120</td>\n",
       "      <td>0.000321</td>\n",
       "    </tr>\n",
       "    <tr>\n",
       "      <th>4</th>\n",
       "      <td>1.1.9</td>\n",
       "      <td>217</td>\n",
       "      <td>0.004608</td>\n",
       "    </tr>\n",
       "  </tbody>\n",
       "</table>\n",
       "</div>"
      ],
      "text/plain": [
       "      EC  Count  class_weight\n",
       "0  1.1.1  56502      0.000018\n",
       "1  1.1.2    848      0.001179\n",
       "2  1.1.3   1145      0.000873\n",
       "3  1.1.5   3120      0.000321\n",
       "4  1.1.9    217      0.004608"
      ]
     },
     "execution_count": 3,
     "metadata": {},
     "output_type": "execute_result"
    }
   ],
   "source": [
    "thrid_data.head()"
   ]
  },
  {
   "cell_type": "code",
   "execution_count": 4,
   "metadata": {},
   "outputs": [],
   "source": [
    "thrid_list = list(thrid_data.loc[:,'EC']) # EC 값만 가져오기\n",
    "thrid_count = thrid_data.loc[:,'Count'] # Count만 가져오기\n",
    "batch_size_value = 635  # for문을 통해서 데이터 최대한 적개 남는 배치사이즈를 찾아서 배치사이즈를 다르게 지정\n",
    "test_batch_size_value = 153\n",
    "\n",
    "data_type = \">21000b\" #데이터타입을 byte로 불러오기\n",
    "label_type = \">20b\" #데이터타입을 char로 불러오기"
   ]
  },
  {
   "cell_type": "code",
   "execution_count": 5,
   "metadata": {},
   "outputs": [],
   "source": [
    "train_f = open(file_dir + 'dataset_train.images','rb')\n",
    "train_signature , train_count, train_row_count, train_columns_count, train_label_size = struct.unpack(\">IIIII\", train_f.read(20))\n",
    "\n",
    "val_f = open(file_dir + 'dataset_val.images','rb')\n",
    "val_signature , val_count, val_row_count, val_columns_count, val_label_size = struct.unpack(\">IIIII\", val_f.read(20))\n",
    "\n",
    "test_f = open(file_dir + 'dataset_test.images','rb')\n",
    "test_signature , test_count, test_row_count, test_columns_count, test_label_size = struct.unpack(\">IIIII\", test_f.read(20))\n",
    "\n",
    "# 데이터 파일을 rb(read byte)로 읽어 들이기"
   ]
  },
  {
   "cell_type": "code",
   "execution_count": 6,
   "metadata": {},
   "outputs": [
    {
     "data": {
      "text/plain": [
       "(2051, 1104270, 1000, 21, 20)"
      ]
     },
     "execution_count": 6,
     "metadata": {},
     "output_type": "execute_result"
    }
   ],
   "source": [
    "train_signature , train_count, train_row_count, train_columns_count, train_label_size"
   ]
  },
  {
   "cell_type": "code",
   "execution_count": 7,
   "metadata": {},
   "outputs": [
    {
     "data": {
      "text/plain": [
       "(2051, 156537, 1000, 21, 20)"
      ]
     },
     "execution_count": 7,
     "metadata": {},
     "output_type": "execute_result"
    }
   ],
   "source": [
    "val_signature , val_count, val_row_count, val_columns_count, val_label_size"
   ]
  },
  {
   "cell_type": "code",
   "execution_count": 8,
   "metadata": {},
   "outputs": [
    {
     "data": {
      "text/plain": [
       "(2051, 314109, 1000, 21, 20)"
      ]
     },
     "execution_count": 8,
     "metadata": {},
     "output_type": "execute_result"
    }
   ],
   "source": [
    "test_signature , test_count, test_row_count, test_columns_count, test_label_size"
   ]
  },
  {
   "cell_type": "code",
   "execution_count": 10,
   "metadata": {},
   "outputs": [],
   "source": [
    "train_name = \"dataset_train.images\"\n",
    "val_name = \"dataset_val.images\"\n",
    "test_name = \"dataset_test.images\"\n",
    "\n",
    "def data_loader(length, datatype, labeltype, file_name):\n",
    "    train_f = open(file_dir + file_name ,'rb')\n",
    "    train_f.seek(20)\n",
    "    #처음으로 돌려주는 코드 필요\n",
    "    while True:\n",
    "        seq = struct.unpack(datatype, train_f.read(21000))\n",
    "        seq = np.array(seq)\n",
    "        seq = torch.FloatTensor(seq)\n",
    "        seq = torch.abs(seq) #절대값을 사용한 이유는 -1의 값이 나오기 때문에 abs로 절대값을 취해서 1의 값으로 변환해서 사용\n",
    "        seq = seq.view(1,1000,21)\n",
    "        \n",
    "        label = train_f.read(20).strip()\n",
    "        label = str(label).split(\"b\")[1].split(\"'\")[1]\n",
    "        \n",
    "        yield seq, label"
   ]
  },
  {
   "cell_type": "code",
   "execution_count": 11,
   "metadata": {},
   "outputs": [],
   "source": [
    "def find_index_test(check_data):\n",
    "    point = 0 \n",
    "    check_point = 0\n",
    "    for i in range(len(check_data)):\n",
    "        if check_data[i] == \".\":\n",
    "            point += 1\n",
    "        if point == 3:\n",
    "            return i"
   ]
  },
  {
   "cell_type": "code",
   "execution_count": 12,
   "metadata": {},
   "outputs": [],
   "source": [
    "class TrainDataSet(torch.utils.data.Dataset):\n",
    "    def __init__(self, data_count, data_name):\n",
    "        train_data_loader = data_loader(data_count, data_type, label_type, data_name)\n",
    "        \n",
    "    def __len__(self):\n",
    "        return train_count\n",
    "    \n",
    "    def __getitem__(self, idx):\n",
    "        data_next = next(train_data_loader)\n",
    "        x = data_next[0]\n",
    "        y = data_next[1]\n",
    "        return x, y \n",
    "    \n",
    "class TestDataSet(torch.utils.data.Dataset):\n",
    "    def __init__(self, data_count, data_name):\n",
    "        test_data_loader = data_loader(data_count, data_type, label_type, data_name)\n",
    "        \n",
    "    def __len__(self):\n",
    "        return test_count\n",
    "    \n",
    "    def __getitem__(self, idx):\n",
    "        data_next = next(test_data_loader)\n",
    "        x = data_next[0]\n",
    "        y = data_next[1]\n",
    "        return x, y \n",
    "    #self로 시도 하였으나 안되는 형상이 있어 전역변수에 읽어온 데이터로 사용\n",
    "    \n",
    "train_data_loader = data_loader(train_count, data_type, label_type, train_name)\n",
    "test_data_loader = data_loader(test_count, data_type, label_type, test_name)\n",
    "\n",
    "train_set = TrainDataSet(train_count, train_name)\n",
    "test_set = TestDataSet(test_count, test_name)\n",
    "\n",
    "traindataloader = DataLoader(train_set, batch_size = batch_size_value, shuffle = True, pin_memory = True, drop_last = True)\n",
    "testdataloader = DataLoader(test_set, batch_size = test_batch_size_value, shuffle = True, pin_memory = True, drop_last = True)\n",
    "\n",
    "#DataLoader에 class로 정의한 데이터셋 넣어서 DataLoader 사용"
   ]
  },
  {
   "cell_type": "code",
   "execution_count": 13,
   "metadata": {},
   "outputs": [],
   "source": [
    "def find_index_label(data, label_list_t, slice_batch):\n",
    "    point = 0\n",
    "    label_list = []\n",
    "    for itt in range(slice_batch):\n",
    "        test_ttttttt = data[itt]\n",
    "        \n",
    "        point_data = find_index_test(data[itt])\n",
    "        \n",
    "        test = test_ttttttt[:point_data]\n",
    "        \n",
    "        finded_data = label_list_t.index(test)\n",
    "        \n",
    "        label_list.append(finded_data)\n",
    " \n",
    "    return label_list\n",
    "\n",
    "#3자리 까지 자른 데이터를 학습시 index로 학습하기위한 함수"
   ]
  },
  {
   "cell_type": "code",
   "execution_count": 14,
   "metadata": {},
   "outputs": [],
   "source": [
    "#cuda() 붙여보기\n",
    "\n",
    "class CNN2(nn.Module):\n",
    "    \n",
    "    def __init__(self):\n",
    "        # 항상 torch.nn.Module을 상속받고 시작\n",
    "        super(CNN2, self).__init__()\n",
    "\n",
    "        eps_value = 1e-01\n",
    "        momentum_value = 0.99\n",
    "        bias_data = 0\n",
    "        conv1 = nn.Conv2d(1, 128, kernel_size = (4,21), stride = 1, dilation = 1) #케라스의 conv2d\n",
    "        nn.init.xavier_normal_(conv1.weight) #케라스의 conv2d와 설정을 똑같이 하기위해 사용 \n",
    "        conv1.bias.data.fill_(bias_data) #케라스의 conv2d와 설정을 똑같이 하기위해 사용 \n",
    "        \n",
    "        batch_conv1 = nn.BatchNorm1d(128, momentum = momentum_value, eps = eps_value) #케라스의 batchnorm\n",
    "        pool1 = nn.MaxPool2d(kernel_size=(997,1))  #케라스의 MaxPool2d\n",
    "\n",
    "        self.CNN1_module = nn.Sequential(\n",
    "            conv1,\n",
    "            nn.ReLU(),\n",
    "            pool1,\n",
    "            nn.Flatten(),\n",
    "            batch_conv1\n",
    "        )\n",
    "        \n",
    "        conv2 = nn.Conv2d(1, 128, kernel_size = (8,21), stride = 1, dilation = 1)\n",
    "        nn.init.xavier_normal_(conv2.weight) \n",
    "        conv2.bias.data.fill_(bias_data)\n",
    "        \n",
    "        batch_conv2 = nn.BatchNorm1d(128, momentum = momentum_value, eps = eps_value)\n",
    "        pool2 = nn.MaxPool2d(kernel_size=(993,1)) \n",
    "\n",
    "        self.CNN2_module = nn.Sequential(\n",
    "            conv2,\n",
    "            nn.ReLU(),\n",
    "            pool2,\n",
    "            nn.Flatten(),\n",
    "            batch_conv2\n",
    "        )\n",
    "        \n",
    "        conv3 = nn.Conv2d(1, 128, kernel_size = (16,21), stride = 1 , dilation = 1)\n",
    "        nn.init.xavier_normal_(conv3.weight)\n",
    "        conv3.bias.data.fill_(bias_data)\n",
    "        \n",
    "        batch_conv3 = nn.BatchNorm1d(128, momentum = momentum_value, eps = eps_value)\n",
    "        pool3 = nn.MaxPool2d(kernel_size=(985,1)) \n",
    "    \n",
    "        self.CNN3_module = nn.Sequential(\n",
    "            conv3,\n",
    "            nn.ReLU(),\n",
    "            pool3,\n",
    "            nn.Flatten(),\n",
    "            batch_conv3\n",
    "        )\n",
    "\n",
    "        \n",
    "        fc1 = nn.Linear(384, 512) #케라스의 Dense\n",
    "        batch_fc1 = nn.BatchNorm1d(512, momentum = momentum_value, eps = eps_value)\n",
    "        nn.init.xavier_normal_(fc1.weight) #케라스의 conv2d와 설정을 똑같이 하기위해 사용 \n",
    "        fc1.bias.data.fill_(bias_data) #케라스의 conv2d와 설정을 똑같이 하기위해 사용 \n",
    "\n",
    "        fc2 = nn.Linear(512, 512)\n",
    "        batch_fc2 = nn.BatchNorm1d(512, momentum = momentum_value, eps = eps_value)\n",
    "        nn.init.xavier_normal_(fc2.weight)\n",
    "        fc2.bias.data.fill_(bias_data)\n",
    "\n",
    "        fc3 = nn.Linear(512, 246)\n",
    "        batch_fc3 = nn.BatchNorm1d(246, momentum = momentum_value, eps = eps_value)\n",
    "        nn.init.xavier_normal_(fc3.weight)\n",
    "        fc3.bias.data.fill_(bias_data)\n",
    "        \n",
    " \n",
    "        self.fc_module = nn.Sequential(\n",
    "            fc1,\n",
    "            batch_fc1,\n",
    "            nn.ReLU(),\n",
    "            fc2,\n",
    "            batch_fc2,\n",
    "            nn.ReLU(),\n",
    "            fc3,\n",
    "            batch_fc3,\n",
    "            nn.Sigmoid()\n",
    "        )\n",
    "        \n",
    "    def forward(self, x):\n",
    "        out1 = self.CNN1_module(x) # @16*4*4\n",
    "        out2 = self.CNN2_module(x) # @16*4*4\n",
    "        out3 = self.CNN3_module(x) # @16*4*4\n",
    "        # make linear\n",
    "        \n",
    "        out = torch.cat((out1, out2, out3), dim = 1) # torch.cat은 케라스의 Concatenate\n",
    "        out = self.fc_module(out)\n",
    "\n",
    "        return out\n",
    "    \n",
    "#배치 정규화 균등분포"
   ]
  },
  {
   "cell_type": "code",
   "execution_count": 15,
   "metadata": {},
   "outputs": [],
   "source": [
    "cnn2 = CNN2().cuda()"
   ]
  },
  {
   "cell_type": "code",
   "execution_count": 16,
   "metadata": {},
   "outputs": [],
   "source": [
    "label = []\n",
    "for i in range(len(thrid_count)):\n",
    "    label_t = [i] * thrid_count[i]\n",
    "    label += label_t\n",
    "    \n",
    "class_weight = compute_class_weight(class_weight = \"balanced\" , \n",
    "                     classes=np.unique(label), \n",
    "                     y = label)\n",
    "#for문을 통해 classweight를 계산 "
   ]
  },
  {
   "cell_type": "code",
   "execution_count": null,
   "metadata": {},
   "outputs": [],
   "source": [
    "#class weight는 나중에 구하는걸로\n",
    "class_weight_tensor = torch.FloatTensor(class_weight).cuda()\n",
    "criterion = nn.CrossEntropyLoss(weight = class_weight_tensor) # multi class을 위한 CrossEntropyLoss 사용\n",
    "\n",
    "learning_rate = 0.001\n",
    "\n",
    "optimizer = optim.Adam(cnn2.parameters(), lr = learning_rate, eps = 1e-08)\n",
    "\n",
    "epochs = 30\n",
    "\n",
    "train_loss_list = []\n",
    "test_loss_list = []\n",
    "\n",
    "check_test_correct = 0\n",
    "\n",
    "for e in range(epochs):\n",
    "    train_loss = 0\n",
    "    val_loss = 0\n",
    "    test_loss = 0\n",
    "    test_correct = 0\n",
    "    train_correct = 0\n",
    "    start_time = time.time()\n",
    "\n",
    "    for index, data in enumerate(traindataloader):\n",
    "        cnn2.train()\n",
    "        input_data, label_data = data\n",
    "        label_data = find_index_label(label_data, thrid_list, batch_size_value) # 위에서 선언한 함수를 통해서 배치사이즈만큼 \n",
    "        \n",
    "        trian_label = torch.LongTensor(label_data).cuda(non_blocking = True)\n",
    "        input_data = input_data.cuda(non_blocking = True)\n",
    "        \n",
    "        optimizer.zero_grad()\n",
    "        model_output = cnn2(input_data)\n",
    "\n",
    "        loss = criterion(model_output,trian_label)\n",
    "\n",
    "        loss.backward()\n",
    "        optimizer.step()\n",
    "        train_loss += loss.item()\n",
    "\n",
    "    with torch.no_grad(): # very very very very important!!!\n",
    "\n",
    "        for index, data in enumerate(testdataloader):\n",
    "            cnn2.eval()\n",
    "            input_data, label_data = data\n",
    "            \n",
    "            label_data = find_index_label(label_data, thrid_list, test_batch_size_value)\n",
    "            \n",
    "            test_data_value = input_data.cuda(non_blocking = True)\n",
    "            test_label_value = torch.LongTensor(label_data).cuda(non_blocking = True)\n",
    "            \n",
    "            test_output = cnn2(test_data_value)\n",
    "           \n",
    "            t_loss = criterion(test_output, test_label_value)\n",
    "            test_loss += t_loss.item()\n",
    "            \n",
    "            _, test_pred = torch.max(test_output.data, 1)\n",
    "            \n",
    "            for h in range(test_batch_size_value):\n",
    "                if test_pred[h] == label_data[h]:\n",
    "                    test_correct += 1\n",
    "   \n",
    "        train_loss_list.append(train_loss/train_count)\n",
    "        test_loss_list.append(test_loss/test_count)\n",
    "    print(\"epoch: {} | trn loss: {:.6f} | test_loss:{:.6f}\".format(e+1, train_loss/train_count, test_loss/test_count))\n",
    "    print('Total_Test_acc : {:.2f}'.format(float(100 * test_correct / test_count)))\n",
    "    print('작업 수행된 시간 : %f 초' % (time.time() - start_time))\n",
    "    \n",
    "    \n",
    "#학습 및 평가"
   ]
  },
  {
   "cell_type": "code",
   "execution_count": 20,
   "metadata": {},
   "outputs": [
    {
     "data": {
      "image/png": "[encoded data removed]",
      "text/plain": [
       "<Figure size 432x288 with 1 Axes>"
      ]
     },
     "metadata": {
      "needs_background": "light"
     },
     "output_type": "display_data"
    }
   ],
   "source": [
    "from matplotlib import pyplot as plt\n",
    "\n",
    "epoch_np = np.arange(1,31,1)\n",
    "\n",
    "plt.plot(epoch_np, train_loss_list)\n",
    "plt.plot(epoch_np, test_loss_list)\n",
    "plt.xlabel('Epoch')\n",
    "plt.ylabel('Loss')\n",
    "plt.title('Result')\n",
    "plt.legend(['Train', 'Test'])\n",
    "plt.show()\n",
    "\n",
    "# 이건 원래"
   ]
  },
  {
   "cell_type": "code",
   "execution_count": 50,
   "metadata": {},
   "outputs": [
    {
     "data": {
      "image/png": "[encoded data removed]",
      "text/plain": [
       "<Figure size 432x288 with 1 Axes>"
      ]
     },
     "metadata": {
      "needs_background": "light"
     },
     "output_type": "display_data"
    }
   ],
   "source": [
    "from matplotlib import pyplot as plt\n",
    "\n",
    "epoch_np = np.arange(1,31,1)\n",
    "\n",
    "plt.plot(epoch_np, rrr)\n",
    "plt.plot(epoch_np, rr)\n",
    "plt.xlabel('Epoch')\n",
    "plt.ylabel('Loss')\n",
    "plt.title('Result')\n",
    "plt.legend(['Train', 'Test'])\n",
    "plt.show()\n",
    "# 이건 보기 편할라고 값 위에거 처럼 곱하기를 한거"
   ]
  },
  {
   "cell_type": "code",
   "execution_count": 38,
   "metadata": {},
   "outputs": [
    {
     "data": {
      "image/png": "[encoded data removed]",
      "text/plain": [
       "<Figure size 432x288 with 1 Axes>"
      ]
     },
     "metadata": {
      "needs_background": "light"
     },
     "output_type": "display_data"
    }
   ],
   "source": [
    "from matplotlib import pyplot as plt\n",
    "\n",
    "epoch_np = np.arange(1,31,1)\n",
    "\n",
    "plt.plot(epoch_np, train_loss_list)\n",
    "plt.xlabel('Epoch')\n",
    "plt.ylabel('Loss')\n",
    "plt.title('Train')\n",
    "plt.legend(['Train'])\n",
    "plt.show()"
   ]
  },
  {
   "cell_type": "code",
   "execution_count": 39,
   "metadata": {},
   "outputs": [
    {
     "data": {
      "image/png": "[encoded data removed]",
      "text/plain": [
       "<Figure size 432x288 with 1 Axes>"
      ]
     },
     "metadata": {
      "needs_background": "light"
     },
     "output_type": "display_data"
    }
   ],
   "source": [
    "from matplotlib import pyplot as plt\n",
    "\n",
    "epoch_np = np.arange(1,31,1)\n",
    "\n",
    "plt.plot(epoch_np, test_loss_list)\n",
    "plt.xlabel('Epoch')\n",
    "plt.ylabel('Loss')\n",
    "plt.title('test')\n",
    "plt.legend(['test'])\n",
    "plt.show()"
   ]
  },
  {
   "cell_type": "code",
   "execution_count": null,
   "metadata": {},
   "outputs": [],
   "source": [
    "from matplotlib import pyplot as plt\n",
    "\n",
    "acc_list = [55.61, 64.23, 70.60, 75.24, 77.86, 80.57, 81.96, 82.99,\n",
    "84.60, 85.36, 86.13, 86.63, 87.80, 88.43, 88.15, 89.08, 89.43, 89.80,\n",
    " 90.39, 90.49, 90.64, 91.18, 91.36, 91.40, 91.46, 91.46, 91.93, 91.96\n",
    ", 92.20, 92.42]\n",
    "\n",
    "epoch_np = np.arange(1,31,1)\n",
    "\n",
    "plt.plot(epoch_np, test_loss_list)\n",
    "plt.xlabel('Epoch')\n",
    "plt.ylabel('Acc')\n",
    "plt.title('Acc')\n",
    "plt.legend(['test'])\n",
    "plt.show()"
   ]
  }
 ],
 "metadata": {
  "kernelspec": {
   "display_name": "Python 3",
   "language": "python",
   "name": "python3"
  },
  "language_info": {
   "codemirror_mode": {
    "name": "ipython",
    "version": 3
   },
   "file_extension": ".py",
   "mimetype": "text/x-python",
   "name": "python",
   "nbconvert_exporter": "python",
   "pygments_lexer": "ipython3",
   "version": "3.7.6"
  }
 },
 "nbformat": 4,
 "nbformat_minor": 4
}
