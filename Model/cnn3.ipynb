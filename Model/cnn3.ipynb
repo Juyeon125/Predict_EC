{
 "cells": [
  {
   "cell_type": "code",
   "execution_count": 1,
   "metadata": {},
   "outputs": [],
   "source": [
    "import pandas as pd \n",
    "import numpy as np\n",
    "import gzip\n",
    "import struct\n",
    "import torch \n",
    "import torch.nn as nn\n",
    "import torch.nn.functional as F\n",
    "import torch.optim as optim\n",
    "import time\n",
    "\n",
    "from sklearn.utils.class_weight import compute_class_weight\n",
    "from torch.utils.data import Dataset\n",
    "from torch.utils.data import DataLoader\n",
    "\n",
    "file_dir = './Enzyme_Data/cnn2_dataset/'\n",
    "\n",
    "#필요한 모듈 불러오는 영역"
   ]
  },
  {
   "cell_type": "code",
   "execution_count": 2,
   "metadata": {},
   "outputs": [],
   "source": [
    "fourth_data = pd.read_csv('./Fourth_EC_total.csv') #데이터셋에서 아래 보이는것과 같이 label 과 count를 만들어놓은 csv 파일"
   ]
  },
  {
   "cell_type": "code",
   "execution_count": 3,
   "metadata": {},
   "outputs": [
    {
     "data": {
      "text/html": [
       "<div>\n",
       "<style scoped>\n",
       "    .dataframe tbody tr th:only-of-type {\n",
       "        vertical-align: middle;\n",
       "    }\n",
       "\n",
       "    .dataframe tbody tr th {\n",
       "        vertical-align: top;\n",
       "    }\n",
       "\n",
       "    .dataframe thead th {\n",
       "        text-align: right;\n",
       "    }\n",
       "</style>\n",
       "<table border=\"1\" class=\"dataframe\">\n",
       "  <thead>\n",
       "    <tr style=\"text-align: right;\">\n",
       "      <th></th>\n",
       "      <th>LABEL</th>\n",
       "      <th>COUNT</th>\n",
       "    </tr>\n",
       "  </thead>\n",
       "  <tbody>\n",
       "    <tr>\n",
       "      <th>0</th>\n",
       "      <td>1.1.1.1</td>\n",
       "      <td>700</td>\n",
       "    </tr>\n",
       "    <tr>\n",
       "      <th>1</th>\n",
       "      <td>1.1.1.10</td>\n",
       "      <td>26</td>\n",
       "    </tr>\n",
       "    <tr>\n",
       "      <th>2</th>\n",
       "      <td>1.1.1.100</td>\n",
       "      <td>700</td>\n",
       "    </tr>\n",
       "    <tr>\n",
       "      <th>3</th>\n",
       "      <td>1.1.1.102</td>\n",
       "      <td>28</td>\n",
       "    </tr>\n",
       "    <tr>\n",
       "      <th>4</th>\n",
       "      <td>1.1.1.103</td>\n",
       "      <td>700</td>\n",
       "    </tr>\n",
       "  </tbody>\n",
       "</table>\n",
       "</div>"
      ],
      "text/plain": [
       "       LABEL  COUNT\n",
       "0    1.1.1.1    700\n",
       "1   1.1.1.10     26\n",
       "2  1.1.1.100    700\n",
       "3  1.1.1.102     28\n",
       "4  1.1.1.103    700"
      ]
     },
     "execution_count": 3,
     "metadata": {},
     "output_type": "execute_result"
    }
   ],
   "source": [
    "fourth_data.head()"
   ]
  },
  {
   "cell_type": "code",
   "execution_count": 4,
   "metadata": {},
   "outputs": [],
   "source": [
    "fourth_label = list(fourth_data.loc[:,'LABEL']) #label값만 가져오기\n",
    "fourth_count = fourth_data.loc[:,'COUNT'] #label 의 갯수만 가져오기\n",
    "batch_size_value = 635  \n",
    "test_batch_size_value = 632 # for문을 통해서 데이터 최대한 적개 남는 배치사이즈를 찾아서 배치사이즈를 다르게 지정\n",
    "data_type = \">21000b\" #데이터타입을 byte로 불러오기\n",
    "label_type = \">20c\" #데이터타입을 char로 불러오기\n",
    "#"
   ]
  },
  {
   "cell_type": "code",
   "execution_count": 5,
   "metadata": {},
   "outputs": [],
   "source": [
    "train_f = open(file_dir + 'dataset_train.images','rb') \n",
    "train_signature , train_count, train_row_count, train_columns_count, train_label_size = struct.unpack(\">IIIII\", train_f.read(20))\n",
    "\n",
    "val_f = open(file_dir + 'dataset_val.images','rb')\n",
    "val_signature , val_count, val_row_count, val_columns_count, val_label_size = struct.unpack(\">IIIII\", val_f.read(20))\n",
    "\n",
    "test_f = open(file_dir + 'dataset_test.images','rb')\n",
    "test_signature , test_count, test_row_count, test_columns_count, test_label_size = struct.unpack(\">IIIII\", test_f.read(20))\n",
    "    \n",
    "# 데이터 파일을 rb(read byte)로 읽어 들이기"
   ]
  },
  {
   "cell_type": "code",
   "execution_count": 6,
   "metadata": {},
   "outputs": [
    {
     "data": {
      "text/plain": [
       "(2051, 1104270, 1000, 21, 20)"
      ]
     },
     "execution_count": 6,
     "metadata": {},
     "output_type": "execute_result"
    }
   ],
   "source": [
    "train_signature , train_count, train_row_count, train_columns_count, train_label_size"
   ]
  },
  {
   "cell_type": "code",
   "execution_count": 7,
   "metadata": {},
   "outputs": [
    {
     "data": {
      "text/plain": [
       "(2051, 156537, 1000, 21, 20)"
      ]
     },
     "execution_count": 7,
     "metadata": {},
     "output_type": "execute_result"
    }
   ],
   "source": [
    "val_signature , val_count, val_row_count, val_columns_count, val_label_size"
   ]
  },
  {
   "cell_type": "code",
   "execution_count": 8,
   "metadata": {},
   "outputs": [
    {
     "data": {
      "text/plain": [
       "(2051, 314109, 1000, 21, 20)"
      ]
     },
     "execution_count": 8,
     "metadata": {},
     "output_type": "execute_result"
    }
   ],
   "source": [
    "test_signature , test_count, test_row_count, test_columns_count, test_label_size"
   ]
  },
  {
   "cell_type": "code",
   "execution_count": 9,
   "metadata": {},
   "outputs": [],
   "source": [
    "train_name = \"dataset_train.images\"\n",
    "val_name = \"dataset_val.images\"\n",
    "test_name = \"dataset_test.images\"\n",
    "\n",
    "def data_loader(length, datatype, labeltype, file_name):\n",
    "    train_f = open(file_dir + file_name ,'rb')\n",
    "    train_f.seek(20)\n",
    "\n",
    "    while True:\n",
    "        seq = struct.unpack(datatype, train_f.read(21000))\n",
    "        seq = np.array(seq)\n",
    "        seq = torch.FloatTensor(seq)\n",
    "        seq = torch.abs(seq) #절대값을 사용한 이유는 -1의 값이 나오기 때문에 abs로 절대값을 취해서 1의 값으로 변환해서 사용\n",
    "        seq = seq.view(1,1000,21)\n",
    "        \n",
    "        label = train_f.read(20).strip()\n",
    "        label = str(label).split(\"b\")[1].split(\"'\")[1]\n",
    "        \n",
    "        yield seq, label\n",
    "\n",
    "    #for i in range(length):\n",
    "        \n"
   ]
  },
  {
   "cell_type": "code",
   "execution_count": 10,
   "metadata": {},
   "outputs": [],
   "source": [
    "class TrainDataSet(torch.utils.data.Dataset):\n",
    "    def __init__(self, data_count, datatype, labeltype, data_name):\n",
    "        train_data_loader = data_loader(data_count, datatype, labeltype, data_name)\n",
    "        \n",
    "    def __len__(self):\n",
    "        return train_count\n",
    "    \n",
    "    def __getitem__(self, idx):\n",
    "        data_next = next(self.train_data_loader)\n",
    "        x = data_next[0]\n",
    "        y = data_next[1]\n",
    "        return x, y \n",
    "    \n",
    "\n",
    "class TestDataSet(torch.utils.data.Dataset):\n",
    "    def __init__(self, data_count, datatype, labeltype, data_name):\n",
    "        test_data_loader = data_loader(data_count, datatype, labeltype, data_name)\n",
    "        \n",
    "    def __len__(self):\n",
    "        return test_count\n",
    "    \n",
    "    def __getitem__(self, idx):\n",
    "        data_next = next(test_data_loader)\n",
    "        x = data_next[0]\n",
    "        y = data_next[1]\n",
    "        return x, y \n",
    "    \n",
    "train_set = TestDataSet(train_count, data_type, label_type, train_name)\n",
    "test_set = TestDataSet(test_count, data_type, label_type, test_name)\n",
    "\n",
    "traindataloader = DataLoader(train_set, batch_size = batch_size_value, shuffle = True, pin_memory = True, drop_last = True)\n",
    "testdataloader = DataLoader(test_set, batch_size = test_batch_size_value, shuffle = True, pin_memory = True, drop_last = True)\n",
    "\n",
    "\n",
    "#해결 위에거 하러 가기"
   ]
  },
  {
   "cell_type": "code",
   "execution_count": 11,
   "metadata": {},
   "outputs": [],
   "source": [
    "def find_index_label(data, label_list_t):\n",
    "    point = 0\n",
    "    #find_index = 0\n",
    "    label_list = []\n",
    "    for i in range(len(data)):\n",
    "        finded_data = label_list_t.index(data[i])\n",
    "        label_list.append(finded_data)                \n",
    "    return label_list\n",
    "\n",
    "#label 데이터가 string 타입이라 crossentropyloss에서 사용하기 위해 index로 변환해주는 작업"
   ]
  },
  {
   "cell_type": "code",
   "execution_count": 12,
   "metadata": {},
   "outputs": [],
   "source": [
    "#cuda() 붙여보기\n",
    "\n",
    "class CNN3(nn.Module):\n",
    "    \n",
    "    def __init__(self):\n",
    "        # 항상 torch.nn.Module을 상속받고 시작\n",
    "        super(CNN3, self).__init__()\n",
    "\n",
    "        eps_value = 1e-01\n",
    "        momentum_value = 0.99\n",
    "        bias_data = 0\n",
    "        conv1 = nn.Conv2d(1, 128, kernel_size = (4,21), stride = 1, dilation = 1) #케라스의 conv2d\n",
    "        nn.init.xavier_normal_(conv1.weight) #케라스의 conv2d와 설정을 똑같이 하기위해 사용 \n",
    "        conv1.bias.data.fill_(bias_data) #케라스의 conv2d와 설정을 똑같이 하기위해 사용 \n",
    "        \n",
    "        batch_conv1 = nn.BatchNorm1d(128, momentum = momentum_value, eps = eps_value) #케라스의 batchnorm\n",
    "        pool1 = nn.MaxPool2d(kernel_size=(997,1))  #케라스의 MaxPool2d\n",
    "\n",
    "        self.CNN1_module = nn.Sequential(\n",
    "            conv1,\n",
    "            nn.ReLU(),\n",
    "            pool1,\n",
    "            nn.Flatten(),\n",
    "            batch_conv1\n",
    "        )\n",
    "        \n",
    "        conv2 = nn.Conv2d(1, 128, kernel_size = (8,21), stride = 1, dilation = 1)\n",
    "        nn.init.xavier_normal_(conv2.weight) \n",
    "        conv2.bias.data.fill_(bias_data)\n",
    "        \n",
    "        batch_conv2 = nn.BatchNorm1d(128, momentum = momentum_value, eps = eps_value)\n",
    "        pool2 = nn.MaxPool2d(kernel_size=(993,1)) \n",
    "\n",
    "        self.CNN2_module = nn.Sequential(\n",
    "            conv2,\n",
    "            nn.ReLU(),\n",
    "            pool2,\n",
    "            nn.Flatten(),\n",
    "            batch_conv2\n",
    "        )\n",
    "        \n",
    "        conv3 = nn.Conv2d(1, 128, kernel_size = (16,21), stride = 1 , dilation = 1)\n",
    "        nn.init.xavier_normal_(conv3.weight)\n",
    "        conv3.bias.data.fill_(bias_data)\n",
    "        \n",
    "        batch_conv3 = nn.BatchNorm1d(128, momentum = momentum_value, eps = eps_value)\n",
    "        pool3 = nn.MaxPool2d(kernel_size=(985,1)) \n",
    "    \n",
    "        self.CNN3_module = nn.Sequential(\n",
    "            conv3,\n",
    "            nn.ReLU(),\n",
    "            pool3,\n",
    "            nn.Flatten(),\n",
    "            batch_conv3\n",
    "        )\n",
    "\n",
    "        \n",
    "        fc1 = nn.Linear(384, 512) #케라스의 Dense\n",
    "        batch_fc1 = nn.BatchNorm1d(512, momentum = momentum_value, eps = eps_value)\n",
    "        nn.init.xavier_normal_(fc1.weight) #케라스의 conv2d와 설정을 똑같이 하기위해 사용 \n",
    "        fc1.bias.data.fill_(bias_data) #케라스의 conv2d와 설정을 똑같이 하기위해 사용 \n",
    "\n",
    "        fc2 = nn.Linear(512, 512)\n",
    "        batch_fc2 = nn.BatchNorm1d(512, momentum = momentum_value, eps = eps_value)\n",
    "        nn.init.xavier_normal_(fc2.weight)\n",
    "        fc2.bias.data.fill_(bias_data)\n",
    "\n",
    "        fc3 = nn.Linear(512, 3370)\n",
    "        batch_fc3 = nn.BatchNorm1d(3370, momentum = momentum_value, eps = eps_value)\n",
    "        nn.init.xavier_normal_(fc3.weight)\n",
    "        fc3.bias.data.fill_(bias_data)\n",
    "        \n",
    " \n",
    "        self.fc_module = nn.Sequential(\n",
    "            fc1,\n",
    "            batch_fc1,\n",
    "            nn.ReLU(),\n",
    "            fc2,\n",
    "            batch_fc2,\n",
    "            nn.ReLU(),\n",
    "            fc3,\n",
    "            batch_fc3,\n",
    "            nn.Sigmoid()\n",
    "        )\n",
    "        \n",
    "    def forward(self, x):\n",
    "        out1 = self.CNN1_module(x) # @16*4*4\n",
    "        out2 = self.CNN2_module(x) # @16*4*4\n",
    "        out3 = self.CNN3_module(x) # @16*4*4\n",
    "        # make linear\n",
    "        \n",
    "        out = torch.cat((out1, out2, out3), dim = 1) # torch.cat은 케라스의 Concatenate\n",
    "\n",
    "        out = self.fc_module(out)\n",
    "        return out\n",
    "    \n",
    "#CNN 정의"
   ]
  },
  {
   "cell_type": "code",
   "execution_count": 13,
   "metadata": {},
   "outputs": [],
   "source": [
    "#recall precision 계산하는거 찾아보기"
   ]
  },
  {
   "cell_type": "code",
   "execution_count": 14,
   "metadata": {},
   "outputs": [],
   "source": [
    "cnn3 = CNN3().cuda()"
   ]
  },
  {
   "cell_type": "code",
   "execution_count": 15,
   "metadata": {},
   "outputs": [],
   "source": [
    "label = []\n",
    "for i in range(len(fourth_count)):\n",
    "    label_t = [i] * fourth_count[i]\n",
    "    label += label_t\n",
    "    \n",
    "class_weight = compute_class_weight(class_weight = \"balanced\" , \n",
    "                     classes=np.unique(label), \n",
    "                     y = label)\n",
    "#for문을 통해 classweight를 계산 "
   ]
  },
  {
   "cell_type": "code",
   "execution_count": null,
   "metadata": {},
   "outputs": [],
   "source": [
    "#class weight는 나중에 구하는걸로\n",
    "class_weight_tensor = torch.FloatTensor(class_weight).cuda()\n",
    "criterion = nn.CrossEntropyLoss(weight = class_weight_tensor) # multi class을 위한 CrossEntropyLoss 사용\n",
    "\n",
    "learning_rate = 0.001\n",
    "\n",
    "optimizer = optim.Adam(cnn3.parameters(), lr = learning_rate, eps = 1e-08)\n",
    "\n",
    "epochs = 30\n",
    "\n",
    "train_loss_list = []\n",
    "test_loss_list = []\n",
    "acc_list = []\n",
    "check_test_correct = 0\n",
    "\n",
    "for e in range(epochs):\n",
    "    train_loss = 0\n",
    "    val_loss = 0\n",
    "    test_loss = 0\n",
    "    test_correct = 0\n",
    "    train_correct = 0\n",
    "    start_time = time.time()\n",
    "\n",
    "    train_data_loader = data_loader(train_count, data_type, label_type, train_name)\n",
    "    test_data_loader = data_loader(test_count, data_type, label_type, test_name)\n",
    "        \n",
    "    for index, data in enumerate(traindataloader):\n",
    "        cnn3.train()\n",
    "\n",
    "        input_data, label_data = data\n",
    "        label_data = find_index_label(label_data, fourth_label)\n",
    "        \n",
    "        trian_label = torch.LongTensor(label_data).cuda(non_blocking = True)\n",
    "        input_data = input_data.cuda(non_blocking = True)\n",
    "        \n",
    "        optimizer.zero_grad()\n",
    "        model_output = cnn3(input_data)\n",
    "        # 이거 바꾼거임 원래는 없었음\n",
    "\n",
    "        loss = criterion(model_output,trian_label)\n",
    "\n",
    "        loss.backward()\n",
    "        optimizer.step()\n",
    "        train_loss += loss.item()\n",
    "        \n",
    "    \n",
    "    with torch.no_grad(): # very very very very important!!!\n",
    "        start_time_test = time.time()\n",
    "        for test_index, data in enumerate(testdataloader):\n",
    "            cnn3.eval()\n",
    "            input_data, label_data = data\n",
    "            \n",
    "            test_label_data = find_index_label(label_data, fourth_label)\n",
    "            \n",
    "            test_data_value = input_data.cuda(non_blocking = True)\n",
    "            test_label_value = torch.LongTensor(test_label_data).cuda(non_blocking = True)\n",
    "            \n",
    "            test_output = cnn3(test_data_value)\n",
    "           \n",
    "            t_loss = criterion(test_output, test_label_value)\n",
    "            test_loss += t_loss.item()\n",
    "            \n",
    "            _, test_pred = torch.max(test_output.data, 1)\n",
    "            \n",
    "            for h in range(test_batch_size_value):\n",
    "                if test_pred[h] == test_label_value[h]:\n",
    "                    test_correct += 1\n",
    "            \n",
    "        if test_correct > check_test_correct:\n",
    "            check_test_correct = test_correct\n",
    "            torch.save(cnn3.state_dict(), './saved_model/cnn3_conv_3.pth')\n",
    "            print(\"model_save\")\n",
    "                \n",
    "        train_loss_list.append(train_loss/train_count)\n",
    "        test_loss_list.append(test_loss/test_count)\n",
    "        acc_list.append(float(100 * test_correct / test_count))\n",
    "    print(\"epoch: {} | trn loss: {:.6f} | test_loss:{:.6f}\".format(e+1, train_loss/train_count, test_loss/test_count))\n",
    "    print('Total_Test_acc : {:.2f}'.format(float(100 * test_correct / test_count)))\n",
    "    print('작업 수행된 시간 : %f 초' % (time.time() - start_time))\n",
    "    print('평가 작업 수행된 시간 : %f 초' % (time.time() - start_time_test))\n",
    "    \n",
    "    \n",
    "#학습 및 평가 \n"
   ]
  },
  {
   "cell_type": "code",
   "execution_count": 17,
   "metadata": {},
   "outputs": [
    {
     "data": {
      "image/png": "[encoded data removed]",
      "text/plain": [
       "<Figure size 432x288 with 1 Axes>"
      ]
     },
     "metadata": {
      "needs_background": "light"
     },
     "output_type": "display_data"
    }
   ],
   "source": [
    "from matplotlib import pyplot as plt\n",
    "\n",
    "epoch_np = np.arange(1,31,1)\n",
    "\n",
    "plt.plot(epoch_np, train_loss_list)\n",
    "plt.plot(epoch_np, test_loss_list)\n",
    "plt.xlabel('Epoch')\n",
    "plt.ylabel('Loss')\n",
    "plt.title('CNN3 Loss')\n",
    "plt.legend(['train_loss', 'test_loss'])\n",
    "plt.show()\n",
    "\n",
    "# 이건 원래 "
   ]
  },
  {
   "cell_type": "code",
   "execution_count": 18,
   "metadata": {},
   "outputs": [
    {
     "data": {
      "image/png": "[encoded data removed]",
      "text/plain": [
       "<Figure size 432x288 with 1 Axes>"
      ]
     },
     "metadata": {
      "needs_background": "light"
     },
     "output_type": "display_data"
    }
   ],
   "source": [
    "epoch_np = np.arange(1,31,1)\n",
    "\n",
    "plt.plot(epoch_np, acc_list, 'rs--', marker=\"o\", c = \"b\")\n",
    "plt.xlabel('Epoch')\n",
    "plt.ylabel('Accuracy')\n",
    "plt.title('CNN3 Accuracy')\n",
    "plt.legend(['acc'])\n",
    "plt.show()"
   ]
  },
  {
   "cell_type": "code",
   "execution_count": 16,
   "metadata": {},
   "outputs": [
    {
     "data": {
      "image/png": "[encoded data removed]",
      "text/plain": [
       "<Figure size 432x288 with 1 Axes>"
      ]
     },
     "metadata": {
      "needs_background": "light"
     },
     "output_type": "display_data"
    }
   ],
   "source": [
    "from matplotlib import pyplot as plt\n",
    "import numpy as np\n",
    "epoch_np = np.arange(1,31,1)\n",
    "\n",
    "plt.plot(epoch_np, train_loss)\n",
    "plt.plot(epoch_np, test_loss)\n",
    "plt.xlabel('Epoch')\n",
    "plt.ylabel('Loss')\n",
    "plt.title('Result')\n",
    "plt.legend(['Train', 'Test'])\n",
    "plt.show()\n",
    "\n",
    "# 이건 원래"
   ]
  },
  {
   "cell_type": "code",
   "execution_count": null,
   "metadata": {},
   "outputs": [],
   "source": []
  }
 ],
 "metadata": {
  "kernelspec": {
   "display_name": "Python 3",
   "language": "python",
   "name": "python3"
  },
  "language_info": {
   "codemirror_mode": {
    "name": "ipython",
    "version": 3
   },
   "file_extension": ".py",
   "mimetype": "text/x-python",
   "name": "python",
   "nbconvert_exporter": "python",
   "pygments_lexer": "ipython3",
   "version": "3.7.6"
  }
 },
 "nbformat": 4,
 "nbformat_minor": 4
}
